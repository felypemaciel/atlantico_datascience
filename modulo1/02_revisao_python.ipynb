{
 "cells": [
  {
   "attachments": {},
   "cell_type": "markdown",
   "metadata": {},
   "source": [
    "**Variáveis e Operadores**\n",
    "\n",
    "Crie um programa que leia dois números inteiros e imprima a soma, subtração, multiplicação e divisão entre eles."
   ]
  },
  {
   "cell_type": "code",
   "execution_count": 22,
   "metadata": {},
   "outputs": [
    {
     "name": "stdout",
     "output_type": "stream",
     "text": [
      "Addition: 15 \n",
      "Subtraction: 5 \n",
      "Multiplication: 50 \n",
      "Division: 2.0 \n",
      "\n"
     ]
    }
   ],
   "source": [
    "number1 = int(input(\"First number: \"))\n",
    "number2 = int(input(\"Second number: \"))\n",
    "\n",
    "addition = number1 + number2\n",
    "subtraction = number1 - number2\n",
    "multiplication = number1 * number2\n",
    "division = number1 / number2\n",
    "\n",
    "print('Addition:', addition, '\\n'\n",
    "      + 'Subtraction:', subtraction, '\\n'\n",
    "      + 'Multiplication:', multiplication, '\\n'\n",
    "      + 'Division:', division, '\\n')"
   ]
  },
  {
   "attachments": {},
   "cell_type": "markdown",
   "metadata": {},
   "source": [
    "Escreva um programa que calcula a área de um círculo, solicitando o raio do usuário."
   ]
  },
  {
   "cell_type": "code",
   "execution_count": 5,
   "metadata": {},
   "outputs": [],
   "source": [
    "import math"
   ]
  },
  {
   "cell_type": "code",
   "execution_count": 18,
   "metadata": {},
   "outputs": [
    {
     "name": "stdout",
     "output_type": "stream",
     "text": [
      "Circle area: 28.27.\n"
     ]
    }
   ],
   "source": [
    "radius = float(input(\"Circle radius: \"))\n",
    "area = math.pi * radius * radius\n",
    "print(f\"Circle area: {area:.2f}.\")"
   ]
  },
  {
   "attachments": {},
   "cell_type": "markdown",
   "metadata": {},
   "source": [
    "**Estruturas de Seleção e Repetição**"
   ]
  },
  {
   "attachments": {},
   "cell_type": "markdown",
   "metadata": {},
   "source": [
    "Escreva um programa que solicite a didade do usuário e imprima se ele é menorde idade (menor que 18 anos) ou maior de idade."
   ]
  },
  {
   "cell_type": "code",
   "execution_count": 3,
   "metadata": {},
   "outputs": [
    {
     "name": "stdout",
     "output_type": "stream",
     "text": [
      "Usuário é menor de idade.\n"
     ]
    }
   ],
   "source": [
    "age = int(input('Age: '))\n",
    "\n",
    "if age < 18:\n",
    "    print('Usuário é menor de idade.')\n",
    "else:\n",
    "    print('Usuário é maior de idade.')\n"
   ]
  },
  {
   "attachments": {},
   "cell_type": "markdown",
   "metadata": {},
   "source": [
    "Crie um programa que peça ao usuário para adivinhar um número secreto entre 1 e 100. O programa deve fornecer dicas se o palpite do usuário é maior ou menor que o número secreto, até que ele adivinhe corretamente."
   ]
  },
  {
   "cell_type": "code",
   "execution_count": 5,
   "metadata": {},
   "outputs": [],
   "source": [
    "import random"
   ]
  },
  {
   "cell_type": "code",
   "execution_count": 11,
   "metadata": {},
   "outputs": [
    {
     "name": "stdout",
     "output_type": "stream",
     "text": [
      "Um pouco mais.\n",
      "Um pouco mais.\n",
      "Um pouco mais.\n",
      "Um pouco mais.\n",
      "Um pouco mais.\n",
      "Um pouco mais.\n",
      "Um pouco menos.\n",
      "Um pouco menos.\n",
      "Um pouco menos.\n",
      "Um pouco menos.\n",
      "Um pouco menos.\n",
      "Um pouco menos.\n",
      "Aê, acertou!\n"
     ]
    }
   ],
   "source": [
    "secret_number = random.randint(0, 100)\n",
    "palpite = int(input('Palpite: '))\n",
    "\n",
    "while (palpite != secret_number):\n",
    "    if palpite > secret_number:\n",
    "        print('Um pouco menos.')\n",
    "    else: \n",
    "        print('Um pouco mais.')\n",
    "    palpite = int(input('Palpite: '))\n",
    "\n",
    "print(\"Aê, acertou!\")"
   ]
  },
  {
   "attachments": {},
   "cell_type": "markdown",
   "metadata": {},
   "source": [
    "**Coleções (Listas, Tuplas, Conjuntos)**"
   ]
  },
  {
   "attachments": {},
   "cell_type": "markdown",
   "metadata": {},
   "source": [
    "Escreva um programa que crie uma lista de 5 números inteiros e imprima os elementos dessa lista."
   ]
  },
  {
   "cell_type": "code",
   "execution_count": 12,
   "metadata": {},
   "outputs": [
    {
     "name": "stdout",
     "output_type": "stream",
     "text": [
      "[22, 14, 32, 77, 45]\n"
     ]
    }
   ],
   "source": [
    "random_list = []\n",
    "\n",
    "for i in range(0, 5):\n",
    "    number = random.randint(0, 100)\n",
    "    random_list.append(number)\n",
    "\n",
    "print(random_list)"
   ]
  },
  {
   "attachments": {},
   "cell_type": "markdown",
   "metadata": {},
   "source": [
    "Crie uma tupla com os nomes de alguns animais. Em seguida, peça ao usuário para digitar o nome de algum animal e verifique se ele está presente na tupla."
   ]
  },
  {
   "cell_type": "code",
   "execution_count": 13,
   "metadata": {},
   "outputs": [],
   "source": [
    "animals = ('macaco', 'tubarão', 'dinossauro', 'ornitorrinco', 'pato', 'cachorro')"
   ]
  },
  {
   "cell_type": "code",
   "execution_count": 16,
   "metadata": {},
   "outputs": [
    {
     "name": "stdout",
     "output_type": "stream",
     "text": [
      "Tem não.\n"
     ]
    }
   ],
   "source": [
    "animal_user = input(\"Qual animal você acha que tem aqui?\")\n",
    "if animal_user in animals:\n",
    "    print(\"Tem mesmo.\")\n",
    "else:\n",
    "    print(\"Tem não.\")"
   ]
  },
  {
   "attachments": {},
   "cell_type": "markdown",
   "metadata": {},
   "source": [
    "**Reutilização de Código (Funções e Módulos)**"
   ]
  },
  {
   "attachments": {},
   "cell_type": "markdown",
   "metadata": {},
   "source": [
    "Escreva uma função que receba o nome de uma pessoa como argumeto e imprima uma mensagem de saudação."
   ]
  },
  {
   "cell_type": "code",
   "execution_count": 24,
   "metadata": {},
   "outputs": [],
   "source": [
    "def welcome(name):\n",
    "    print(\"Boas vindas,\", name, \"!\")"
   ]
  },
  {
   "cell_type": "code",
   "execution_count": 25,
   "metadata": {},
   "outputs": [
    {
     "name": "stdout",
     "output_type": "stream",
     "text": [
      "Boas vindas, Felype !\n"
     ]
    }
   ],
   "source": [
    "name = input(\"Qual seu nome?\")\n",
    "\n",
    "welcome(name)"
   ]
  },
  {
   "attachments": {},
   "cell_type": "markdown",
   "metadata": {},
   "source": [
    "Implemente um módulo contendo uma função que verifique se um número é primo."
   ]
  },
  {
   "cell_type": "code",
   "execution_count": 65,
   "metadata": {},
   "outputs": [],
   "source": [
    "from primo import prime"
   ]
  },
  {
   "cell_type": "code",
   "execution_count": 66,
   "metadata": {},
   "outputs": [],
   "source": [
    "number = int(input(\"Digite o número: \"))\n",
    "prime(number)"
   ]
  }
 ],
 "metadata": {
  "kernelspec": {
   "display_name": "Python 3",
   "language": "python",
   "name": "python3"
  },
  "language_info": {
   "codemirror_mode": {
    "name": "ipython",
    "version": 3
   },
   "file_extension": ".py",
   "mimetype": "text/x-python",
   "name": "python",
   "nbconvert_exporter": "python",
   "pygments_lexer": "ipython3",
   "version": "3.9.6"
  },
  "orig_nbformat": 4
 },
 "nbformat": 4,
 "nbformat_minor": 2
}
